{
 "cells": [
  {
   "cell_type": "markdown",
   "metadata": {},
   "source": [
    "### 0. Import all the packages/libraries needed"
   ]
  },
  {
   "cell_type": "code",
   "execution_count": null,
   "metadata": {},
   "outputs": [],
   "source": [
    "import pandas as pd\n",
    "import numpy as np\n",
    "import math\n",
    "import matplotlib.pyplot as plt"
   ]
  },
  {
   "cell_type": "code",
   "execution_count": null,
   "metadata": {},
   "outputs": [],
   "source": [
    "# Plot the cost function for logistic regression\n",
    "xvals = np.arange(0,1,0.01)\n",
    "y1vals = 0-np.log(xvals)\n",
    "y0vals = 0-np.log(1-xvals)\n",
    "plt.plot(xvals, y1vals, 'b', label='y=1')\n",
    "plt.plot(xvals, y0vals, 'g', label='y=0')\n",
    "plt.title('Loss functions of logistic regression')\n",
    "plt.legend()\n",
    "plt.xlabel('Hypothesis: $h\\\\theta(x)$')\n",
    "plt.ylabel('Loss');"
   ]
  },
  {
   "cell_type": "markdown",
   "metadata": {},
   "source": [
    "### 1. Cost function\n",
    "- 1.1. Prediction function for logistic regression\n",
    ">The value of h(x) is the probability value that the sample $x_i$ belongs to category 1\n",
    "$$\n",
    "h_\\theta(x)=\\frac{1}{1+e^{-\\theta^T x}}\n",
    "$$\n",
    "This is the hypothetical function of logistic regression. In fact, it is to add the sigmoid function to the result of the linear regression function.\n",
    "\n",
    "$Z = \\theta^T x$\n",
    "\n",
    "Z = 0, the probability is $0.5$ -> boundary line\n",
    "\n",
    "Z > 0, the probability is larger than 0.5 -> category 1\n",
    "\n",
    "Z < 0, the probability is smaller than 0.5 -> category 0\n",
    "\n",
    "\n",
    "- 1.2. Cost function\n",
    "$$\n",
    "\\operatorname{Cost}\\left(h_\\theta, y\\right)=\\left\\{\\begin{array}{cl}\n",
    "-\\log \\left(h_\\theta(x)\\right) & \\text { if } y=1 \\\\\n",
    "-\\log \\left(1-h_\\theta(x)\\right) & \\text { if } y=0\n",
    "\\end{array}\\right.\n",
    "$$\n",
    "\n",
    "- 1.3. **General term of cost function**\n",
    "$$\n",
    "\\begin{aligned}\n",
    "&J(\\theta)=\\frac{1}{m} \\sum_{i=1}^m \\operatorname{Cost}\\left(h_\\theta\\left(x^i\\right), y^i\\right) \\\\\n",
    "&=-\\frac{1}{m}\\left[\\sum_{i=1}^m y^i \\log h_\\theta\\left(x^i\\right)+\\left(1-y^i\\right) \\log \\left(1-h_\\theta\\left(x^i\\right)\\right)\\right]\n",
    "\\end{aligned}\n",
    "$$\n"
   ]
  },
  {
   "cell_type": "markdown",
   "metadata": {},
   "source": [
    "> Pseudo code\n",
    "\n",
    "`first_half_term = multiply(y, log(y_pred))` \n",
    "\n",
    "`second_half_term = multiply((1-y), log(1-y_pred))`\n",
    "\n",
    "`J(theta) = (-1/m) * summation(first_half_term + second_half_term)`"
   ]
  },
  {
   "cell_type": "markdown",
   "metadata": {},
   "source": [
    "**The difference between sum and numpy.sum**\n",
    ">sum works on NumPy's arrays and numpy.sum works on Python lists and they both return the same effective result but different types. [link](https://stackoverflow.com/questions/10922231/pythons-sum-vs-numpys-numpy-sum)"
   ]
  },
  {
   "cell_type": "markdown",
   "metadata": {},
   "source": [
    "- 1.4.The derivate of the cost function for gradient descent:"
   ]
  },
  {
   "cell_type": "markdown",
   "metadata": {},
   "source": [
    "    We need to minimize the cost/loss function:\n",
    "Repeat \\{\n",
    "$$\n",
    "\\theta_j:=\\theta_j-\\alpha \\frac{1}{m} \\sum_{i=1}^m\\left(h_\\theta\\left(x^i\\right)-y^i\\right) x_j^i\n",
    "$$"
   ]
  },
  {
   "cell_type": "markdown",
   "metadata": {},
   "source": [
    "### 2. Generate data\n"
   ]
  },
  {
   "cell_type": "code",
   "execution_count": null,
   "metadata": {},
   "outputs": [],
   "source": [
    "from sklearn.datasets import make_classification\n",
    "from matplotlib import pyplot as plt\n",
    "\n",
    "# Generate classification dataset\n",
    "x, y = make_classification(n_features=2, n_redundant=0, n_informative=1, n_clusters_per_class=1,random_state=2043)\n",
    "\n",
    "plt.scatter(x[:,0], x[:,1], c=y)\n",
    "plt.show()"
   ]
  },
  {
   "cell_type": "code",
   "execution_count": null,
   "metadata": {},
   "outputs": [],
   "source": [
    "print(x.shape)"
   ]
  },
  {
   "cell_type": "markdown",
   "metadata": {},
   "source": [
    "### 3. logistic regression model (python version)"
   ]
  },
  {
   "cell_type": "code",
   "execution_count": 8,
   "metadata": {},
   "outputs": [],
   "source": [
    "import numpy as np\n",
    "class LogisticRegression:\n",
    "    '''\n",
    "    default parameters: \n",
    "    regularization term =1\n",
    "    learning_rate: 0.001\n",
    "    iteration_numbers: 10000\n",
    "    '''\n",
    "    def __init__(self, penalty = None, Lambda = 1, lrate = 0.001, epochs = 10000):\n",
    "        self.W = None\n",
    "        self.penalty = penalty\n",
    "        self.Lambda = Lambda\n",
    "        self.lrate= lrate\n",
    "        self.epochs = epochs\n",
    "        self.sigmoid = lambda x:1/(1+ np.exp(-x))\n",
    "    def loss(self, x, y):\n",
    "        m = x.shape[0]\n",
    "\n",
    "        y_pred = self.sigmoid(x * self.W)\n",
    "\n",
    "        #TODO Complete the codes below\n",
    "        first_half_term = np.multiply(y, np.log(y_pred))\n",
    "        second_half_term = np.multiply((1-y), np.log(1-y_pred))\n",
    "        loss = (-1/m) * np.sum(first_half_term + second_half_term)\n",
    "        return loss\n",
    "\n",
    "    def fit(self,x,y):\n",
    "        lossList = []\n",
    "        # calculate the number of data samples\n",
    "        m = x.shape[0]\n",
    "        X = np.concatenate((np.ones((m,1)), x), axis=1) # (100, 3)\n",
    "        # calculate the number of features\n",
    "        n = X.shape[1]\n",
    "        # reshape the W into a matrix\n",
    "        self.W = np.mat(np.ones((n,1)))\n",
    "\n",
    "        XMat = np.mat(X) # Interpret the input as a matrix.\n",
    "        # reshape y as a (m x 1) matrix\n",
    "        YMat = np.mat(y.reshape(-1,1))\n",
    "        # for loop\n",
    "        for i in range(self.epochs):\n",
    "            \n",
    "            h = self.sigmoid(XMat * self.W)\n",
    "            gradient = XMat.T * (h - YMat)/m\n",
    "\n",
    "            # add regularization terms\n",
    "            if self.penalty == 'l2':\n",
    "                gradient = gradient + self.Lambda * self.W\n",
    "            elif self.penalty == 'l1':\n",
    "                gradient = gradient + self.Lambda * np.sign(self.W)\n",
    "                # np.sign Returns an element-wise indication of the sign of a number\n",
    "\n",
    "            self.W = self.W - self.lrate * gradient\n",
    "            if i % 50 == 0:\n",
    "                lossList.append(self.loss(XMat, YMat))\n",
    "        return self.W, lossList\n"
   ]
  },
  {
   "cell_type": "code",
   "execution_count": 10,
   "metadata": {},
   "outputs": [
    {
     "data": {
      "image/png": "[encoded data removed]",
      "text/plain": [
       "<Figure size 640x480 with 1 Axes>"
      ]
     },
     "metadata": {},
     "output_type": "display_data"
    }
   ],
   "source": [
    "lr = LogisticRegression() #using default parameters\n",
    "w,lossList = lr.fit(x,y)\n",
    "\n",
    "# z=0 is the dividing line for linear classification\n",
    "# w[0]+ x*w[1] + y* w[2]=0, calculate y \n",
    "x_test = [[-1],[0.7]]\n",
    "y_test = (-w[0]-x_test*w[1])/w[2] \n",
    "\n",
    "plt.scatter(x[:,0],x[:,1],c=y)\n",
    "plt.plot(x_test,y_test)\n",
    "plt.show()"
   ]
  }
 ],
 "metadata": {
  "kernelspec": {
   "display_name": "Python 3.10.6 64-bit",
   "language": "python",
   "name": "python3"
  },
  "language_info": {
   "codemirror_mode": {
    "name": "ipython",
    "version": 3
   },
   "file_extension": ".py",
   "mimetype": "text/x-python",
   "name": "python",
   "nbconvert_exporter": "python",
   "pygments_lexer": "ipython3",
   "version": "3.10.6"
  },
  "orig_nbformat": 4,
  "vscode": {
   "interpreter": {
    "hash": "b0fa6594d8f4cbf19f97940f81e996739fb7646882a419484c72d19e05852a7e"
   }
  }
 },
 "nbformat": 4,
 "nbformat_minor": 2
}
