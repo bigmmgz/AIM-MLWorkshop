{
 "cells": [
  {
   "cell_type": "code",
   "execution_count": 1,
   "id": "f2c65b0d",
   "metadata": {},
   "outputs": [
    {
     "data": {
      "text/plain": [
       "'/home/s5321302/bigmmgz/AIM-MLWorkshop/w2/git_example'"
      ]
     },
     "execution_count": 1,
     "metadata": {},
     "output_type": "execute_result"
    }
   ],
   "source": [
    "import os\n",
    "\n",
    "top_dir = os.getcwd()\n",
    "git_dir = os.path.join(top_dir, \"git_example\")\n",
    "\n",
    "os.chdir(git_dir)\n",
    "git_dir"
   ]
  },
  {
   "cell_type": "code",
   "execution_count": 2,
   "id": "154a9268",
   "metadata": {},
   "outputs": [
    {
     "ename": "SyntaxError",
     "evalue": "invalid syntax (2365633288.py, line 2)",
     "output_type": "error",
     "traceback": [
      "\u001b[0;36m  Input \u001b[0;32mIn [2]\u001b[0;36m\u001b[0m\n\u001b[0;31m    Mountains in the UK\u001b[0m\n\u001b[0m                     ^\u001b[0m\n\u001b[0;31mSyntaxError\u001b[0m\u001b[0;31m:\u001b[0m invalid syntax\n"
     ]
    }
   ],
   "source": [
    "test.md\n",
    "Mountains in the UK   \n",
    "===================   \n",
    "England is not very mountainous.   \n",
    "But has some tall hills, and maybe a mountain or two depending on your definition."
   ]
  },
  {
   "cell_type": "code",
   "execution_count": 3,
   "id": "696a8cc7",
   "metadata": {},
   "outputs": [
    {
     "name": "stdout",
     "output_type": "stream",
     "text": [
      "Overwriting test.md\n"
     ]
    }
   ],
   "source": [
    "%%writefile test.md\n",
    "Mountains in the UK   \n",
    "===================   \n",
    "England is not very mountainous.   \n",
    "But has some tall hills, and maybe a mountain or two depending on your definition."
   ]
  },
  {
   "cell_type": "code",
   "execution_count": 4,
   "id": "4cdfa7a1",
   "metadata": {},
   "outputs": [
    {
     "name": "stdout",
     "output_type": "stream",
     "text": [
      "Mountains in the UK   \r\n",
      "===================   \r\n",
      "England is not very mountainous.   \r\n",
      "But has some tall hills, and maybe a mountain or two depending on your definition.\r\n"
     ]
    }
   ],
   "source": [
    "cat test.md"
   ]
  },
  {
   "cell_type": "code",
   "execution_count": 6,
   "id": "3a932136",
   "metadata": {},
   "outputs": [],
   "source": [
    "%%bash\n",
    "git add test.md"
   ]
  },
  {
   "cell_type": "code",
   "execution_count": 7,
   "id": "e5199c88",
   "metadata": {},
   "outputs": [
    {
     "name": "stdout",
     "output_type": "stream",
     "text": [
      "[main 33d4220] First commit of discourse on UK topography\n",
      " Committer: Sun Xiaohan <s5321302@w11912.student.bournemouth.ac.uk>\n",
      "Your name and email address were configured automatically based\n",
      "on your username and hostname. Please check that they are accurate.\n",
      "You can suppress this message by setting them explicitly. Run the\n",
      "following command and follow the instructions in your editor to edit\n",
      "your configuration file:\n",
      "\n",
      "    git config --global --edit\n",
      "\n",
      "After doing this, you may fix the identity used for this commit with:\n",
      "\n",
      "    git commit --amend --reset-author\n",
      "\n",
      " 1 file changed, 2 deletions(-)\n"
     ]
    }
   ],
   "source": [
    "%%bash\n",
    "git commit -m \"First commit of discourse on UK topography\""
   ]
  },
  {
   "cell_type": "code",
   "execution_count": 8,
   "id": "6fb6dfc9",
   "metadata": {},
   "outputs": [
    {
     "name": "stdout",
     "output_type": "stream",
     "text": [
      "commit 33d42202ba1fbce598a634e91429bf5b5e2ad054\n",
      "Author: Sun Xiaohan <s5321302@w11912.student.bournemouth.ac.uk>\n",
      "Date:   Mon Oct 3 18:07:24 2022 +0100\n",
      "\n",
      "    First commit of discourse on UK topography\n",
      "\n",
      "commit 402686d6eeb8040b625f6a315f0873a9cb5c9b5a\n",
      "Author: pyhan <nanjzq16@gmail.com>\n",
      "Date:   Mon Oct 3 12:38:34 2022 +0100\n",
      "\n",
      "    modified:   README.md\n",
      "    deleted:    example-1-1.ipynb\n",
      "    new file:   w2/Matplotlib_exercise.ipynb\n",
      "    new file:   w2/ex1.ipynb\n",
      "            renamed:    git_example/test.md -> w2/git_example/test.md\n",
      "            new file:   w2/nltk_data/.DS_Store\n",
      "            renamed:    solo_work_with_git.ipynb -> w2/solo_work_with_git.ipynb\n",
      "\n",
      "commit b50eb45dccfdd2f4a342d83bf98148fe15213d52\n",
      "Author: pyhan <nanjzq16@gmail.com>\n",
      "Date:   Mon Oct 3 12:24:07 2022 +0100\n",
      "\n",
      "            modified:   README.md\n",
      "            modified:   git_example/test.md\n",
      "            new file:   solo_work_with_git.ipynb\n",
      "\n",
      "commit 1178821617f67bcfa98008ac78cbb057418726bc\n",
      "Author: pyhan <nanjzq16@gmail.com>\n",
      "Date:   Mon Oct 3 12:19:36 2022 +0100\n",
      "\n",
      "    First commit of discourse on UK topography\n",
      "\n",
      "commit 5acc18b49bf69f34ecff57831e85f11571721a04\n",
      "Author: pyhan <nanjzq16@gmail.com>\n",
      "Date:   Mon Oct 3 10:46:56 2022 +0100\n",
      "\n",
      "    new file:   example-1-1.ipynb\n",
      "\n",
      "commit e96d6b71a04dc131cdf63244e7437ebd496b5e65\n",
      "Author: pyhan <37326561+lizhiqihhh@users.noreply.github.com>\n",
      "Date:   Mon Oct 3 10:42:48 2022 +0100\n",
      "\n",
      "    Initial commit\n"
     ]
    }
   ],
   "source": [
    "%%bash\n",
    "git log"
   ]
  },
  {
   "cell_type": "code",
   "execution_count": 9,
   "id": "f8c467f8",
   "metadata": {},
   "outputs": [
    {
     "name": "stdout",
     "output_type": "stream",
     "text": [
      "On branch main\n",
      "Your branch is ahead of 'origin/main' by 1 commit.\n",
      "  (use \"git push\" to publish your local commits)\n",
      "\n",
      "Untracked files:\n",
      "  (use \"git add <file>...\" to include in what will be committed)\n",
      "\t../../.ipynb_checkpoints/\n",
      "\t../../Untitled.ipynb\n",
      "\t../.ipynb_checkpoints/\n",
      "\t../Untitled.ipynb\n",
      "\n",
      "nothing added to commit but untracked files present (use \"git add\" to track)\n"
     ]
    }
   ],
   "source": [
    "%%bash\n",
    "git status\n"
   ]
  },
  {
   "cell_type": "code",
   "execution_count": 10,
   "id": "49f7c400",
   "metadata": {},
   "outputs": [
    {
     "name": "stdout",
     "output_type": "stream",
     "text": [
      "Overwriting test.md\n"
     ]
    }
   ],
   "source": [
    "%%writefile test.md\n",
    "Mountains in the UK   \n",
    "===================   \n",
    "England is not very mountainous.   \n",
    "But has some tall hills, and maybe a mountain or two depending on your definition.\n",
    "\n",
    "Mount Fictional, in Barsetshire, U.K. is the tallest mountain in the world.\n"
   ]
  },
  {
   "cell_type": "code",
   "execution_count": 11,
   "id": "bcddc93d",
   "metadata": {},
   "outputs": [
    {
     "name": "stdout",
     "output_type": "stream",
     "text": [
      "Mountains in the UK   \r\n",
      "===================   \r\n",
      "England is not very mountainous.   \r\n",
      "But has some tall hills, and maybe a mountain or two depending on your definition.\r\n",
      "\r\n",
      "Mount Fictional, in Barsetshire, U.K. is the tallest mountain in the world.\r\n"
     ]
    }
   ],
   "source": [
    "cat test.md"
   ]
  },
  {
   "cell_type": "code",
   "execution_count": 12,
   "id": "88d12977",
   "metadata": {},
   "outputs": [
    {
     "name": "stdout",
     "output_type": "stream",
     "text": [
      "On branch main\n",
      "Your branch is ahead of 'origin/main' by 1 commit.\n",
      "  (use \"git push\" to publish your local commits)\n",
      "\n",
      "Changes not staged for commit:\n",
      "  (use \"git add <file>...\" to update what will be committed)\n",
      "  (use \"git restore <file>...\" to discard changes in working directory)\n",
      "\tmodified:   test.md\n",
      "\n",
      "Untracked files:\n",
      "  (use \"git add <file>...\" to include in what will be committed)\n",
      "\t../../.ipynb_checkpoints/\n",
      "\t../../Untitled.ipynb\n",
      "\t../.ipynb_checkpoints/\n",
      "\t../Untitled.ipynb\n",
      "\n",
      "no changes added to commit (use \"git add\" and/or \"git commit -a\")\n"
     ]
    }
   ],
   "source": [
    "\n",
    "\n",
    "%%bash\n",
    "git status\n",
    "\n"
   ]
  },
  {
   "cell_type": "code",
   "execution_count": null,
   "id": "22e77f68",
   "metadata": {},
   "outputs": [],
   "source": []
  }
 ],
 "metadata": {
  "kernelspec": {
   "display_name": "Python 3 (ipykernel)",
   "language": "python",
   "name": "python3"
  },
  "language_info": {
   "codemirror_mode": {
    "name": "ipython",
    "version": 3
   },
   "file_extension": ".py",
   "mimetype": "text/x-python",
   "name": "python",
   "nbconvert_exporter": "python",
   "pygments_lexer": "ipython3",
   "version": "3.9.12"
  }
 },
 "nbformat": 4,
 "nbformat_minor": 5
}
