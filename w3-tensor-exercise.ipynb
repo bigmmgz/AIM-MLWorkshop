{
 "cells": [
  {
   "cell_type": "code",
   "execution_count": 1,
   "id": "bc18240f-4e8a-4be0-ba62-caaa71e80b68",
   "metadata": {},
   "outputs": [],
   "source": [
    "import torch"
   ]
  },
  {
   "cell_type": "code",
   "execution_count": 4,
   "id": "a753e49a-0e5a-4b3f-ab6f-3c13fd81505f",
   "metadata": {},
   "outputs": [],
   "source": [
    "scalar = torch.tensor(8)"
   ]
  },
  {
   "cell_type": "code",
   "execution_count": 5,
   "id": "5a899031-890f-41a7-9974-0e8a859ee590",
   "metadata": {},
   "outputs": [],
   "source": [
    "vector = torch.tensor([7,7])"
   ]
  },
  {
   "cell_type": "code",
   "execution_count": 7,
   "id": "d3578edc-7280-4462-a338-23ddc314063f",
   "metadata": {},
   "outputs": [
    {
     "data": {
      "text/plain": [
       "tensor([7, 7])"
      ]
     },
     "execution_count": 7,
     "metadata": {},
     "output_type": "execute_result"
    }
   ],
   "source": [
    "vector"
   ]
  },
  {
   "cell_type": "code",
   "execution_count": 8,
   "id": "e0979f9c-8a9e-4b73-8082-5312fe6ce084",
   "metadata": {},
   "outputs": [
    {
     "data": {
      "text/plain": [
       "1"
      ]
     },
     "execution_count": 8,
     "metadata": {},
     "output_type": "execute_result"
    }
   ],
   "source": [
    "vector.ndim"
   ]
  },
  {
   "cell_type": "code",
   "execution_count": 9,
   "id": "9c135f01-190e-4f1b-aede-8e793676999d",
   "metadata": {},
   "outputs": [
    {
     "data": {
      "text/plain": [
       "torch.Size([2])"
      ]
     },
     "execution_count": 9,
     "metadata": {},
     "output_type": "execute_result"
    }
   ],
   "source": [
    "vector.shape"
   ]
  },
  {
   "cell_type": "code",
   "execution_count": 13,
   "id": "e3c167ba-c452-406d-89c1-f1ee27b40583",
   "metadata": {},
   "outputs": [],
   "source": [
    "float_32_tensor = torch.tensor([1.0,2.0,3.0])"
   ]
  },
  {
   "cell_type": "code",
   "execution_count": 14,
   "id": "6a3e1478-3058-4a9e-8db9-2eca2f9492ea",
   "metadata": {},
   "outputs": [
    {
     "data": {
      "text/plain": [
       "torch.float32"
      ]
     },
     "execution_count": 14,
     "metadata": {},
     "output_type": "execute_result"
    }
   ],
   "source": [
    "float_32_tensor.dtype"
   ]
  },
  {
   "cell_type": "code",
   "execution_count": 16,
   "id": "367ac22e-de63-4d7d-b72c-c3a69b402ead",
   "metadata": {},
   "outputs": [
    {
     "data": {
      "text/plain": [
       "torch.float64"
      ]
     },
     "execution_count": 16,
     "metadata": {},
     "output_type": "execute_result"
    }
   ],
   "source": [
    "float_64_tensor = torch.tensor([1.0,2.0,3.0],dtype=torch.float64)\n",
    "float_64_tensor.dtype"
   ]
  },
  {
   "cell_type": "code",
   "execution_count": 17,
   "id": "9985a419-93bb-40c1-a88b-1a5cc81cad36",
   "metadata": {},
   "outputs": [],
   "source": [
    "tensor1 = torch.tensor([1,2])"
   ]
  },
  {
   "cell_type": "code",
   "execution_count": 18,
   "id": "ec8d5957-5cd7-496e-a294-f751ae8dda39",
   "metadata": {},
   "outputs": [
    {
     "data": {
      "text/plain": [
       "device(type='cpu')"
      ]
     },
     "execution_count": 18,
     "metadata": {},
     "output_type": "execute_result"
    }
   ],
   "source": [
    "tensor1.device"
   ]
  },
  {
   "cell_type": "code",
   "execution_count": 19,
   "id": "bcae9ec3-2d1c-426e-bdd4-2758415d78a7",
   "metadata": {},
   "outputs": [],
   "source": [
    "tensor2 = torch.tensor([1,2,3],device='cuda:0')"
   ]
  },
  {
   "cell_type": "code",
   "execution_count": 20,
   "id": "48073797-ea8b-414c-ad96-a06f4d14934c",
   "metadata": {},
   "outputs": [
    {
     "data": {
      "text/plain": [
       "device(type='cuda', index=0)"
      ]
     },
     "execution_count": 20,
     "metadata": {},
     "output_type": "execute_result"
    }
   ],
   "source": [
    "tensor2.device"
   ]
  },
  {
   "cell_type": "code",
   "execution_count": 23,
   "id": "af830ba9-a2c9-4437-bb71-285365998535",
   "metadata": {},
   "outputs": [],
   "source": [
    "s1 = torch.tensor([[1,2,3],[2,3,4]])"
   ]
  },
  {
   "cell_type": "code",
   "execution_count": 24,
   "id": "71c88ff9-8aa0-45d7-8940-cc793f308d9e",
   "metadata": {},
   "outputs": [],
   "source": [
    "s2 = torch.tensor([[3,4,5],[6,7,8]])"
   ]
  },
  {
   "cell_type": "code",
   "execution_count": 25,
   "id": "b04ca1e8-412a-4473-bf9c-17c1eed32b99",
   "metadata": {},
   "outputs": [
    {
     "data": {
      "text/plain": [
       "tensor([[ 4,  6,  8],\n",
       "        [ 8, 10, 12]])"
      ]
     },
     "execution_count": 25,
     "metadata": {},
     "output_type": "execute_result"
    }
   ],
   "source": [
    "s1 + s2"
   ]
  },
  {
   "cell_type": "code",
   "execution_count": 26,
   "id": "ed794bf2-329c-4a23-b5de-b30084018dfa",
   "metadata": {},
   "outputs": [
    {
     "data": {
      "text/plain": [
       "tensor([[ 3,  8, 15],\n",
       "        [12, 21, 32]])"
      ]
     },
     "execution_count": 26,
     "metadata": {},
     "output_type": "execute_result"
    }
   ],
   "source": [
    "s1 * s2"
   ]
  },
  {
   "cell_type": "code",
   "execution_count": 28,
   "id": "98f6fc4e-ebe7-4ea0-a47a-3ca2b0b97f1c",
   "metadata": {},
   "outputs": [],
   "source": [
    "s3 = torch.tensor(1)"
   ]
  },
  {
   "cell_type": "code",
   "execution_count": 29,
   "id": "26515e5a-255b-4d10-b621-e63d5ee0e0bc",
   "metadata": {},
   "outputs": [],
   "source": [
    "s4 = torch.tensor(2)"
   ]
  },
  {
   "cell_type": "code",
   "execution_count": 30,
   "id": "664fc342-d694-4447-bb23-c2d87fd7c329",
   "metadata": {},
   "outputs": [
    {
     "data": {
      "text/plain": [
       "tensor([[3, 4, 5],\n",
       "        [4, 5, 6]])"
      ]
     },
     "execution_count": 30,
     "metadata": {},
     "output_type": "execute_result"
    }
   ],
   "source": [
    "s1+s4"
   ]
  },
  {
   "cell_type": "code",
   "execution_count": 31,
   "id": "48befadb-3527-4caf-ab2f-55c97360ab2c",
   "metadata": {},
   "outputs": [
    {
     "ename": "NameError",
     "evalue": "name 'y_reshaped' is not defined",
     "output_type": "error",
     "traceback": [
      "\u001b[0;31m---------------------------------------------------------------------------\u001b[0m",
      "\u001b[0;31mNameError\u001b[0m                                 Traceback (most recent call last)",
      "Input \u001b[0;32mIn [31]\u001b[0m, in \u001b[0;36m<cell line: 1>\u001b[0;34m()\u001b[0m\n\u001b[0;32m----> 1\u001b[0m \u001b[43my_reshaped\u001b[49m\u001b[38;5;241m.\u001b[39mshape\n",
      "\u001b[0;31mNameError\u001b[0m: name 'y_reshaped' is not defined"
     ]
    }
   ],
   "source": [
    "y_reshaped.shape"
   ]
  },
  {
   "cell_type": "code",
   "execution_count": 33,
   "id": "48f68ed8-6295-419a-aeb5-3786ba7e0759",
   "metadata": {},
   "outputs": [
    {
     "data": {
      "text/plain": [
       "tensor([ 1,  2,  3,  4,  5,  6,  7,  8,  9, 10])"
      ]
     },
     "execution_count": 33,
     "metadata": {},
     "output_type": "execute_result"
    }
   ],
   "source": [
    "one_to_ten = torch.arange(1,11,1)\n",
    "one_to_ten"
   ]
  },
  {
   "cell_type": "code",
   "execution_count": 34,
   "id": "e36b256b-0270-41a7-92eb-c0e429d234b5",
   "metadata": {},
   "outputs": [],
   "source": [
    "import numpy as np"
   ]
  },
  {
   "cell_type": "code",
   "execution_count": 39,
   "id": "026f25cc-eecf-437a-a8ea-fefd99895e8c",
   "metadata": {},
   "outputs": [
    {
     "data": {
      "text/plain": [
       "array([[[0., 0.],\n",
       "        [0., 0.],\n",
       "        [0., 0.],\n",
       "        [0., 0.]],\n",
       "\n",
       "       [[0., 0.],\n",
       "        [0., 0.],\n",
       "        [0., 0.],\n",
       "        [0., 0.]],\n",
       "\n",
       "       [[0., 0.],\n",
       "        [0., 0.],\n",
       "        [0., 0.],\n",
       "        [0., 0.]],\n",
       "\n",
       "       [[0., 0.],\n",
       "        [0., 0.],\n",
       "        [0., 0.],\n",
       "        [0., 0.]]])"
      ]
     },
     "execution_count": 39,
     "metadata": {},
     "output_type": "execute_result"
    }
   ],
   "source": [
    "np.zeros((4,4,2))"
   ]
  },
  {
   "cell_type": "code",
   "execution_count": 36,
   "id": "a55d861e-54e1-4419-b189-27363253c23b",
   "metadata": {},
   "outputs": [
    {
     "data": {
      "text/plain": [
       "tensor([[0., 0., 0., 0.],\n",
       "        [0., 0., 0., 0.],\n",
       "        [0., 0., 0., 0.],\n",
       "        [0., 0., 0., 0.]])"
      ]
     },
     "execution_count": 36,
     "metadata": {},
     "output_type": "execute_result"
    }
   ],
   "source": [
    "torch.zeros(4,4)"
   ]
  },
  {
   "cell_type": "code",
   "execution_count": null,
   "id": "9ca2763e-8dab-4548-894d-4d242a339b63",
   "metadata": {},
   "outputs": [],
   "source": []
  }
 ],
 "metadata": {
  "kernelspec": {
   "display_name": "Python 3 (ipykernel)",
   "language": "python",
   "name": "python3"
  },
  "language_info": {
   "codemirror_mode": {
    "name": "ipython",
    "version": 3
   },
   "file_extension": ".py",
   "mimetype": "text/x-python",
   "name": "python",
   "nbconvert_exporter": "python",
   "pygments_lexer": "ipython3",
   "version": "3.9.12"
  }
 },
 "nbformat": 4,
 "nbformat_minor": 5
}
