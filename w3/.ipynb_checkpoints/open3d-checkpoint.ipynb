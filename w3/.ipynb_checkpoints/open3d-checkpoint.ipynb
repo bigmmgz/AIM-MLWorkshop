{
 "cells": [
  {
   "cell_type": "code",
   "execution_count": 1,
   "metadata": {},
   "outputs": [
    {
     "name": "stdout",
     "output_type": "stream",
     "text": [
      "Requirement already satisfied: open3d in /home/s5321302/.pyenv/versions/anaconda3-2022.05/lib/python3.9/site-packages (0.15.2)\n",
      "Requirement already satisfied: matplotlib>=3 in /home/s5321302/.pyenv/versions/anaconda3-2022.05/lib/python3.9/site-packages (from open3d) (3.5.1)\n",
      "Requirement already satisfied: pandas>=1.0 in /home/s5321302/.pyenv/versions/anaconda3-2022.05/lib/python3.9/site-packages (from open3d) (1.4.2)\n",
      "Requirement already satisfied: pillow>=8.2.0 in /home/s5321302/.pyenv/versions/anaconda3-2022.05/lib/python3.9/site-packages (from open3d) (9.0.1)\n",
      "Requirement already satisfied: ipywidgets>=7.6.0 in /home/s5321302/.pyenv/versions/anaconda3-2022.05/lib/python3.9/site-packages (from open3d) (7.6.5)\n",
      "Requirement already satisfied: setuptools>=40.8.0 in /home/s5321302/.pyenv/versions/anaconda3-2022.05/lib/python3.9/site-packages (from open3d) (61.2.0)\n",
      "Requirement already satisfied: pyyaml>=5.4.1 in /home/s5321302/.pyenv/versions/anaconda3-2022.05/lib/python3.9/site-packages (from open3d) (6.0)\n",
      "Requirement already satisfied: jupyterlab==3.*,>=3.0.0 in /home/s5321302/.pyenv/versions/anaconda3-2022.05/lib/python3.9/site-packages (from open3d) (3.3.2)\n",
      "Requirement already satisfied: scikit-learn>=0.21 in /home/s5321302/.pyenv/versions/anaconda3-2022.05/lib/python3.9/site-packages (from open3d) (1.0.2)\n",
      "Requirement already satisfied: tqdm in /home/s5321302/.pyenv/versions/anaconda3-2022.05/lib/python3.9/site-packages (from open3d) (4.64.0)\n",
      "Requirement already satisfied: pygments>=2.7.4 in /home/s5321302/.pyenv/versions/anaconda3-2022.05/lib/python3.9/site-packages (from open3d) (2.11.2)\n",
      "Requirement already satisfied: pyquaternion in /home/s5321302/.pyenv/versions/anaconda3-2022.05/lib/python3.9/site-packages (from open3d) (0.9.9)\n",
      "Requirement already satisfied: jupyter-packaging~=0.10 in /home/s5321302/.pyenv/versions/anaconda3-2022.05/lib/python3.9/site-packages (from open3d) (0.12.3)\n",
      "Requirement already satisfied: addict in /home/s5321302/.pyenv/versions/anaconda3-2022.05/lib/python3.9/site-packages (from open3d) (2.4.0)\n",
      "Requirement already satisfied: numpy>1.15 in /home/s5321302/.pyenv/versions/anaconda3-2022.05/lib/python3.9/site-packages (from open3d) (1.21.5)\n",
      "Requirement already satisfied: wheel>=0.36.0 in /home/s5321302/.pyenv/versions/anaconda3-2022.05/lib/python3.9/site-packages (from open3d) (0.37.1)\n",
      "Requirement already satisfied: jupyter-core in /home/s5321302/.pyenv/versions/anaconda3-2022.05/lib/python3.9/site-packages (from jupyterlab==3.*,>=3.0.0->open3d) (4.9.2)\n",
      "Requirement already satisfied: jinja2>=2.1 in /home/s5321302/.pyenv/versions/anaconda3-2022.05/lib/python3.9/site-packages (from jupyterlab==3.*,>=3.0.0->open3d) (2.11.3)\n",
      "Requirement already satisfied: nbclassic~=0.2 in /home/s5321302/.pyenv/versions/anaconda3-2022.05/lib/python3.9/site-packages (from jupyterlab==3.*,>=3.0.0->open3d) (0.3.5)\n",
      "Requirement already satisfied: tornado>=6.1.0 in /home/s5321302/.pyenv/versions/anaconda3-2022.05/lib/python3.9/site-packages (from jupyterlab==3.*,>=3.0.0->open3d) (6.1)\n",
      "Requirement already satisfied: packaging in /home/s5321302/.pyenv/versions/anaconda3-2022.05/lib/python3.9/site-packages (from jupyterlab==3.*,>=3.0.0->open3d) (21.3)\n",
      "Requirement already satisfied: jupyter-server~=1.4 in /home/s5321302/.pyenv/versions/anaconda3-2022.05/lib/python3.9/site-packages (from jupyterlab==3.*,>=3.0.0->open3d) (1.13.5)\n",
      "Requirement already satisfied: ipython in /home/s5321302/.pyenv/versions/anaconda3-2022.05/lib/python3.9/site-packages (from jupyterlab==3.*,>=3.0.0->open3d) (8.2.0)\n",
      "Requirement already satisfied: jupyterlab-server~=2.10 in /home/s5321302/.pyenv/versions/anaconda3-2022.05/lib/python3.9/site-packages (from jupyterlab==3.*,>=3.0.0->open3d) (2.10.3)\n",
      "Requirement already satisfied: traitlets>=4.3.1 in /home/s5321302/.pyenv/versions/anaconda3-2022.05/lib/python3.9/site-packages (from ipywidgets>=7.6.0->open3d) (5.1.1)\n",
      "Requirement already satisfied: nbformat>=4.2.0 in /home/s5321302/.pyenv/versions/anaconda3-2022.05/lib/python3.9/site-packages (from ipywidgets>=7.6.0->open3d) (5.3.0)\n",
      "Requirement already satisfied: ipython-genutils~=0.2.0 in /home/s5321302/.pyenv/versions/anaconda3-2022.05/lib/python3.9/site-packages (from ipywidgets>=7.6.0->open3d) (0.2.0)\n",
      "Requirement already satisfied: jupyterlab-widgets>=1.0.0 in /home/s5321302/.pyenv/versions/anaconda3-2022.05/lib/python3.9/site-packages (from ipywidgets>=7.6.0->open3d) (1.0.0)\n",
      "Requirement already satisfied: widgetsnbextension~=3.5.0 in /home/s5321302/.pyenv/versions/anaconda3-2022.05/lib/python3.9/site-packages (from ipywidgets>=7.6.0->open3d) (3.5.2)\n",
      "Requirement already satisfied: ipykernel>=4.5.1 in /home/s5321302/.pyenv/versions/anaconda3-2022.05/lib/python3.9/site-packages (from ipywidgets>=7.6.0->open3d) (6.9.1)\n",
      "Requirement already satisfied: jupyter-client<8.0 in /home/s5321302/.pyenv/versions/anaconda3-2022.05/lib/python3.9/site-packages (from ipykernel>=4.5.1->ipywidgets>=7.6.0->open3d) (6.1.12)\n",
      "Requirement already satisfied: nest-asyncio in /home/s5321302/.pyenv/versions/anaconda3-2022.05/lib/python3.9/site-packages (from ipykernel>=4.5.1->ipywidgets>=7.6.0->open3d) (1.5.5)\n",
      "Requirement already satisfied: matplotlib-inline<0.2.0,>=0.1.0 in /home/s5321302/.pyenv/versions/anaconda3-2022.05/lib/python3.9/site-packages (from ipykernel>=4.5.1->ipywidgets>=7.6.0->open3d) (0.1.2)\n",
      "Requirement already satisfied: debugpy<2.0,>=1.0.0 in /home/s5321302/.pyenv/versions/anaconda3-2022.05/lib/python3.9/site-packages (from ipykernel>=4.5.1->ipywidgets>=7.6.0->open3d) (1.5.1)\n",
      "Requirement already satisfied: backcall in /home/s5321302/.pyenv/versions/anaconda3-2022.05/lib/python3.9/site-packages (from ipython->jupyterlab==3.*,>=3.0.0->open3d) (0.2.0)\n",
      "Requirement already satisfied: pickleshare in /home/s5321302/.pyenv/versions/anaconda3-2022.05/lib/python3.9/site-packages (from ipython->jupyterlab==3.*,>=3.0.0->open3d) (0.7.5)\n",
      "Requirement already satisfied: jedi>=0.16 in /home/s5321302/.pyenv/versions/anaconda3-2022.05/lib/python3.9/site-packages (from ipython->jupyterlab==3.*,>=3.0.0->open3d) (0.18.1)\n",
      "Requirement already satisfied: decorator in /home/s5321302/.pyenv/versions/anaconda3-2022.05/lib/python3.9/site-packages (from ipython->jupyterlab==3.*,>=3.0.0->open3d) (5.1.1)\n",
      "Requirement already satisfied: prompt-toolkit!=3.0.0,!=3.0.1,<3.1.0,>=2.0.0 in /home/s5321302/.pyenv/versions/anaconda3-2022.05/lib/python3.9/site-packages (from ipython->jupyterlab==3.*,>=3.0.0->open3d) (3.0.20)\n",
      "Requirement already satisfied: stack-data in /home/s5321302/.pyenv/versions/anaconda3-2022.05/lib/python3.9/site-packages (from ipython->jupyterlab==3.*,>=3.0.0->open3d) (0.2.0)\n",
      "Requirement already satisfied: pexpect>4.3 in /home/s5321302/.pyenv/versions/anaconda3-2022.05/lib/python3.9/site-packages (from ipython->jupyterlab==3.*,>=3.0.0->open3d) (4.8.0)\n",
      "Requirement already satisfied: parso<0.9.0,>=0.8.0 in /home/s5321302/.pyenv/versions/anaconda3-2022.05/lib/python3.9/site-packages (from jedi>=0.16->ipython->jupyterlab==3.*,>=3.0.0->open3d) (0.8.3)\n",
      "Requirement already satisfied: MarkupSafe>=0.23 in /home/s5321302/.pyenv/versions/anaconda3-2022.05/lib/python3.9/site-packages (from jinja2>=2.1->jupyterlab==3.*,>=3.0.0->open3d) (2.0.1)\n",
      "Requirement already satisfied: python-dateutil>=2.1 in /home/s5321302/.pyenv/versions/anaconda3-2022.05/lib/python3.9/site-packages (from jupyter-client<8.0->ipykernel>=4.5.1->ipywidgets>=7.6.0->open3d) (2.8.2)\n",
      "Requirement already satisfied: pyzmq>=13 in /home/s5321302/.pyenv/versions/anaconda3-2022.05/lib/python3.9/site-packages (from jupyter-client<8.0->ipykernel>=4.5.1->ipywidgets>=7.6.0->open3d) (22.3.0)\n",
      "Requirement already satisfied: deprecation in /home/s5321302/.pyenv/versions/anaconda3-2022.05/lib/python3.9/site-packages (from jupyter-packaging~=0.10->open3d) (2.1.0)\n",
      "Requirement already satisfied: tomlkit in /home/s5321302/.pyenv/versions/anaconda3-2022.05/lib/python3.9/site-packages (from jupyter-packaging~=0.10->open3d) (0.11.5)\n",
      "Requirement already satisfied: websocket-client in /home/s5321302/.pyenv/versions/anaconda3-2022.05/lib/python3.9/site-packages (from jupyter-server~=1.4->jupyterlab==3.*,>=3.0.0->open3d) (0.58.0)\n",
      "Requirement already satisfied: anyio<4,>=3.1.0 in /home/s5321302/.pyenv/versions/anaconda3-2022.05/lib/python3.9/site-packages (from jupyter-server~=1.4->jupyterlab==3.*,>=3.0.0->open3d) (3.5.0)\n",
      "Requirement already satisfied: prometheus-client in /home/s5321302/.pyenv/versions/anaconda3-2022.05/lib/python3.9/site-packages (from jupyter-server~=1.4->jupyterlab==3.*,>=3.0.0->open3d) (0.13.1)\n",
      "Requirement already satisfied: nbconvert in /home/s5321302/.pyenv/versions/anaconda3-2022.05/lib/python3.9/site-packages (from jupyter-server~=1.4->jupyterlab==3.*,>=3.0.0->open3d) (6.4.4)\n",
      "Requirement already satisfied: terminado>=0.8.3 in /home/s5321302/.pyenv/versions/anaconda3-2022.05/lib/python3.9/site-packages (from jupyter-server~=1.4->jupyterlab==3.*,>=3.0.0->open3d) (0.13.1)\n",
      "Requirement already satisfied: argon2-cffi in /home/s5321302/.pyenv/versions/anaconda3-2022.05/lib/python3.9/site-packages (from jupyter-server~=1.4->jupyterlab==3.*,>=3.0.0->open3d) (21.3.0)\n",
      "Requirement already satisfied: Send2Trash in /home/s5321302/.pyenv/versions/anaconda3-2022.05/lib/python3.9/site-packages (from jupyter-server~=1.4->jupyterlab==3.*,>=3.0.0->open3d) (1.8.0)\n",
      "Requirement already satisfied: sniffio>=1.1 in /home/s5321302/.pyenv/versions/anaconda3-2022.05/lib/python3.9/site-packages (from anyio<4,>=3.1.0->jupyter-server~=1.4->jupyterlab==3.*,>=3.0.0->open3d) (1.2.0)\n",
      "Requirement already satisfied: idna>=2.8 in /home/s5321302/.pyenv/versions/anaconda3-2022.05/lib/python3.9/site-packages (from anyio<4,>=3.1.0->jupyter-server~=1.4->jupyterlab==3.*,>=3.0.0->open3d) (3.3)\n",
      "Requirement already satisfied: requests in /home/s5321302/.pyenv/versions/anaconda3-2022.05/lib/python3.9/site-packages (from jupyterlab-server~=2.10->jupyterlab==3.*,>=3.0.0->open3d) (2.27.1)\n",
      "Requirement already satisfied: jsonschema>=3.0.1 in /home/s5321302/.pyenv/versions/anaconda3-2022.05/lib/python3.9/site-packages (from jupyterlab-server~=2.10->jupyterlab==3.*,>=3.0.0->open3d) (4.4.0)\n",
      "Requirement already satisfied: entrypoints>=0.2.2 in /home/s5321302/.pyenv/versions/anaconda3-2022.05/lib/python3.9/site-packages (from jupyterlab-server~=2.10->jupyterlab==3.*,>=3.0.0->open3d) (0.4)\n",
      "Requirement already satisfied: json5 in /home/s5321302/.pyenv/versions/anaconda3-2022.05/lib/python3.9/site-packages (from jupyterlab-server~=2.10->jupyterlab==3.*,>=3.0.0->open3d) (0.9.6)\n",
      "Requirement already satisfied: babel in /home/s5321302/.pyenv/versions/anaconda3-2022.05/lib/python3.9/site-packages (from jupyterlab-server~=2.10->jupyterlab==3.*,>=3.0.0->open3d) (2.9.1)\n"
     ]
    },
    {
     "name": "stdout",
     "output_type": "stream",
     "text": [
      "Requirement already satisfied: pyrsistent!=0.17.0,!=0.17.1,!=0.17.2,>=0.14.0 in /home/s5321302/.pyenv/versions/anaconda3-2022.05/lib/python3.9/site-packages (from jsonschema>=3.0.1->jupyterlab-server~=2.10->jupyterlab==3.*,>=3.0.0->open3d) (0.18.0)\n",
      "Requirement already satisfied: attrs>=17.4.0 in /home/s5321302/.pyenv/versions/anaconda3-2022.05/lib/python3.9/site-packages (from jsonschema>=3.0.1->jupyterlab-server~=2.10->jupyterlab==3.*,>=3.0.0->open3d) (21.4.0)\n",
      "Requirement already satisfied: pyparsing>=2.2.1 in /home/s5321302/.pyenv/versions/anaconda3-2022.05/lib/python3.9/site-packages (from matplotlib>=3->open3d) (3.0.4)\n",
      "Requirement already satisfied: fonttools>=4.22.0 in /home/s5321302/.pyenv/versions/anaconda3-2022.05/lib/python3.9/site-packages (from matplotlib>=3->open3d) (4.25.0)\n",
      "Requirement already satisfied: cycler>=0.10 in /home/s5321302/.pyenv/versions/anaconda3-2022.05/lib/python3.9/site-packages (from matplotlib>=3->open3d) (0.11.0)\n",
      "Requirement already satisfied: kiwisolver>=1.0.1 in /home/s5321302/.pyenv/versions/anaconda3-2022.05/lib/python3.9/site-packages (from matplotlib>=3->open3d) (1.3.2)\n",
      "Requirement already satisfied: notebook<7 in /home/s5321302/.pyenv/versions/anaconda3-2022.05/lib/python3.9/site-packages (from nbclassic~=0.2->jupyterlab==3.*,>=3.0.0->open3d) (6.4.8)\n",
      "Requirement already satisfied: fastjsonschema in /home/s5321302/.pyenv/versions/anaconda3-2022.05/lib/python3.9/site-packages (from nbformat>=4.2.0->ipywidgets>=7.6.0->open3d) (2.15.1)\n",
      "Requirement already satisfied: pytz>=2020.1 in /home/s5321302/.pyenv/versions/anaconda3-2022.05/lib/python3.9/site-packages (from pandas>=1.0->open3d) (2021.3)\n",
      "Requirement already satisfied: ptyprocess>=0.5 in /home/s5321302/.pyenv/versions/anaconda3-2022.05/lib/python3.9/site-packages (from pexpect>4.3->ipython->jupyterlab==3.*,>=3.0.0->open3d) (0.7.0)\n",
      "Requirement already satisfied: wcwidth in /home/s5321302/.pyenv/versions/anaconda3-2022.05/lib/python3.9/site-packages (from prompt-toolkit!=3.0.0,!=3.0.1,<3.1.0,>=2.0.0->ipython->jupyterlab==3.*,>=3.0.0->open3d) (0.2.5)\n",
      "Requirement already satisfied: six>=1.5 in /home/s5321302/.pyenv/versions/anaconda3-2022.05/lib/python3.9/site-packages (from python-dateutil>=2.1->jupyter-client<8.0->ipykernel>=4.5.1->ipywidgets>=7.6.0->open3d) (1.16.0)\n",
      "Requirement already satisfied: threadpoolctl>=2.0.0 in /home/s5321302/.pyenv/versions/anaconda3-2022.05/lib/python3.9/site-packages (from scikit-learn>=0.21->open3d) (2.2.0)\n",
      "Requirement already satisfied: scipy>=1.1.0 in /home/s5321302/.pyenv/versions/anaconda3-2022.05/lib/python3.9/site-packages (from scikit-learn>=0.21->open3d) (1.7.3)\n",
      "Requirement already satisfied: joblib>=0.11 in /home/s5321302/.pyenv/versions/anaconda3-2022.05/lib/python3.9/site-packages (from scikit-learn>=0.21->open3d) (1.1.0)\n",
      "Requirement already satisfied: argon2-cffi-bindings in /home/s5321302/.pyenv/versions/anaconda3-2022.05/lib/python3.9/site-packages (from argon2-cffi->jupyter-server~=1.4->jupyterlab==3.*,>=3.0.0->open3d) (21.2.0)\n",
      "Requirement already satisfied: cffi>=1.0.1 in /home/s5321302/.pyenv/versions/anaconda3-2022.05/lib/python3.9/site-packages (from argon2-cffi-bindings->argon2-cffi->jupyter-server~=1.4->jupyterlab==3.*,>=3.0.0->open3d) (1.15.0)\n",
      "Requirement already satisfied: pycparser in /home/s5321302/.pyenv/versions/anaconda3-2022.05/lib/python3.9/site-packages (from cffi>=1.0.1->argon2-cffi-bindings->argon2-cffi->jupyter-server~=1.4->jupyterlab==3.*,>=3.0.0->open3d) (2.21)\n",
      "Requirement already satisfied: mistune<2,>=0.8.1 in /home/s5321302/.pyenv/versions/anaconda3-2022.05/lib/python3.9/site-packages (from nbconvert->jupyter-server~=1.4->jupyterlab==3.*,>=3.0.0->open3d) (0.8.4)\n",
      "Requirement already satisfied: pandocfilters>=1.4.1 in /home/s5321302/.pyenv/versions/anaconda3-2022.05/lib/python3.9/site-packages (from nbconvert->jupyter-server~=1.4->jupyterlab==3.*,>=3.0.0->open3d) (1.5.0)\n",
      "Requirement already satisfied: beautifulsoup4 in /home/s5321302/.pyenv/versions/anaconda3-2022.05/lib/python3.9/site-packages (from nbconvert->jupyter-server~=1.4->jupyterlab==3.*,>=3.0.0->open3d) (4.11.1)\n",
      "Requirement already satisfied: bleach in /home/s5321302/.pyenv/versions/anaconda3-2022.05/lib/python3.9/site-packages (from nbconvert->jupyter-server~=1.4->jupyterlab==3.*,>=3.0.0->open3d) (4.1.0)\n",
      "Requirement already satisfied: testpath in /home/s5321302/.pyenv/versions/anaconda3-2022.05/lib/python3.9/site-packages (from nbconvert->jupyter-server~=1.4->jupyterlab==3.*,>=3.0.0->open3d) (0.5.0)\n",
      "Requirement already satisfied: nbclient<0.6.0,>=0.5.0 in /home/s5321302/.pyenv/versions/anaconda3-2022.05/lib/python3.9/site-packages (from nbconvert->jupyter-server~=1.4->jupyterlab==3.*,>=3.0.0->open3d) (0.5.13)\n",
      "Requirement already satisfied: defusedxml in /home/s5321302/.pyenv/versions/anaconda3-2022.05/lib/python3.9/site-packages (from nbconvert->jupyter-server~=1.4->jupyterlab==3.*,>=3.0.0->open3d) (0.7.1)\n",
      "Requirement already satisfied: jupyterlab-pygments in /home/s5321302/.pyenv/versions/anaconda3-2022.05/lib/python3.9/site-packages (from nbconvert->jupyter-server~=1.4->jupyterlab==3.*,>=3.0.0->open3d) (0.1.2)\n",
      "Requirement already satisfied: soupsieve>1.2 in /home/s5321302/.pyenv/versions/anaconda3-2022.05/lib/python3.9/site-packages (from beautifulsoup4->nbconvert->jupyter-server~=1.4->jupyterlab==3.*,>=3.0.0->open3d) (2.3.1)\n",
      "Requirement already satisfied: webencodings in /home/s5321302/.pyenv/versions/anaconda3-2022.05/lib/python3.9/site-packages (from bleach->nbconvert->jupyter-server~=1.4->jupyterlab==3.*,>=3.0.0->open3d) (0.5.1)\n",
      "Requirement already satisfied: urllib3<1.27,>=1.21.1 in /home/s5321302/.pyenv/versions/anaconda3-2022.05/lib/python3.9/site-packages (from requests->jupyterlab-server~=2.10->jupyterlab==3.*,>=3.0.0->open3d) (1.26.9)\n",
      "Requirement already satisfied: charset-normalizer~=2.0.0 in /home/s5321302/.pyenv/versions/anaconda3-2022.05/lib/python3.9/site-packages (from requests->jupyterlab-server~=2.10->jupyterlab==3.*,>=3.0.0->open3d) (2.0.4)\n",
      "Requirement already satisfied: certifi>=2017.4.17 in /home/s5321302/.pyenv/versions/anaconda3-2022.05/lib/python3.9/site-packages (from requests->jupyterlab-server~=2.10->jupyterlab==3.*,>=3.0.0->open3d) (2021.10.8)\n",
      "Requirement already satisfied: executing in /home/s5321302/.pyenv/versions/anaconda3-2022.05/lib/python3.9/site-packages (from stack-data->ipython->jupyterlab==3.*,>=3.0.0->open3d) (0.8.3)\n",
      "Requirement already satisfied: asttokens in /home/s5321302/.pyenv/versions/anaconda3-2022.05/lib/python3.9/site-packages (from stack-data->ipython->jupyterlab==3.*,>=3.0.0->open3d) (2.0.5)\n",
      "Requirement already satisfied: pure-eval in /home/s5321302/.pyenv/versions/anaconda3-2022.05/lib/python3.9/site-packages (from stack-data->ipython->jupyterlab==3.*,>=3.0.0->open3d) (0.2.2)\n",
      "Jupyter environment detected. Enabling Open3D WebVisualizer.\n",
      "[Open3D INFO] WebRTC GUI backend enabled.\n",
      "[Open3D INFO] WebRTCWindowSystem: HTTP handshake server disabled.\n"
     ]
    }
   ],
   "source": [
    "!pip install open3d\n",
    "import open3d as o3d"
   ]
  },
  {
   "cell_type": "code",
   "execution_count": 2,
   "metadata": {},
   "outputs": [],
   "source": [
    "pcd = o3d.io.read_point_cloud(\"bunny.ply\")"
   ]
  },
  {
   "cell_type": "code",
   "execution_count": 3,
   "metadata": {},
   "outputs": [
    {
     "name": "stdout",
     "output_type": "stream",
     "text": [
      "PointCloud with 35947 points.\n"
     ]
    }
   ],
   "source": [
    "print(pcd)"
   ]
  },
  {
   "cell_type": "code",
   "execution_count": null,
   "metadata": {},
   "outputs": [],
   "source": [
    "o3d.visualization.draw_geometries([pcd])"
   ]
  },
  {
   "cell_type": "code",
   "execution_count": null,
   "metadata": {},
   "outputs": [],
   "source": []
  }
 ],
 "metadata": {
  "kernelspec": {
   "display_name": "Python 3 (ipykernel)",
   "language": "python",
   "name": "python3"
  },
  "language_info": {
   "codemirror_mode": {
    "name": "ipython",
    "version": 3
   },
   "file_extension": ".py",
   "mimetype": "text/x-python",
   "name": "python",
   "nbconvert_exporter": "python",
   "pygments_lexer": "ipython3",
   "version": "3.9.12"
  },
  "vscode": {
   "interpreter": {
    "hash": "a665b5d41d17b532ea9890333293a1b812fa0b73c9c25c950b3cedf1bebd0438"
   }
  }
 },
 "nbformat": 4,
 "nbformat_minor": 2
}
