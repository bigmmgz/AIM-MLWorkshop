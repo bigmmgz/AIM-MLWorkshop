{
 "cells": [
  {
   "cell_type": "code",
   "execution_count": 60,
   "id": "9dd28bea",
   "metadata": {},
   "outputs": [
    {
     "name": "stdout",
     "output_type": "stream",
     "text": [
      "Requirement already satisfied: torch in /home/s5321302/.pyenv/versions/3.10.6/lib/python3.10/site-packages (1.12.1)\n",
      "Requirement already satisfied: typing-extensions in /home/s5321302/.pyenv/versions/3.10.6/lib/python3.10/site-packages (from torch) (4.3.0)\n",
      "Note: you may need to restart the kernel to use updated packages.\n"
     ]
    }
   ],
   "source": [
    "pip install torch\n"
   ]
  },
  {
   "cell_type": "code",
   "execution_count": 1,
   "id": "d8a6ab93",
   "metadata": {},
   "outputs": [
    {
     "data": {
      "text/plain": [
       "torch.Size([50, 1])"
      ]
     },
     "execution_count": 1,
     "metadata": {},
     "output_type": "execute_result"
    }
   ],
   "source": [
    "import torch\n",
    "\n",
    "weight = 0.7\n",
    "bias = 0.3\n",
    "\n",
    "start = 0\n",
    "end = 1\n",
    "step = 0.02\n",
    "\n",
    "X =torch.arange(start,end,step).unsqueeze(dim=1)\n",
    "Y =weight * X +bias\n",
    "X[:10],Y[:10]\n",
    "X.shape"
   ]
  },
  {
   "cell_type": "code",
   "execution_count": 2,
   "id": "e68f3f5d",
   "metadata": {},
   "outputs": [],
   "source": [
    "train_split = int (0.8*len(X))\n",
    "X_train,Y_train = X[:train_split],Y[:train_split]\n",
    "X_test,Y_test = X[train_split:],Y[train_split:]"
   ]
  },
  {
   "cell_type": "code",
   "execution_count": 3,
   "id": "bf4fbb73",
   "metadata": {},
   "outputs": [
    {
     "data": {
      "text/plain": [
       "(40, 10)"
      ]
     },
     "execution_count": 3,
     "metadata": {},
     "output_type": "execute_result"
    }
   ],
   "source": [
    "len(X_train),len(X_test)"
   ]
  },
  {
   "cell_type": "code",
   "execution_count": 64,
   "id": "963309aa",
   "metadata": {},
   "outputs": [
    {
     "name": "stdout",
     "output_type": "stream",
     "text": [
      "Requirement already satisfied: matplotlib in /home/s5321302/.pyenv/versions/3.10.6/lib/python3.10/site-packages (3.6.1)\n",
      "Requirement already satisfied: pillow>=6.2.0 in /home/s5321302/.pyenv/versions/3.10.6/lib/python3.10/site-packages (from matplotlib) (9.2.0)\n",
      "Requirement already satisfied: numpy>=1.19 in /home/s5321302/.pyenv/versions/3.10.6/lib/python3.10/site-packages (from matplotlib) (1.23.4)\n",
      "Requirement already satisfied: cycler>=0.10 in /home/s5321302/.pyenv/versions/3.10.6/lib/python3.10/site-packages (from matplotlib) (0.11.0)\n",
      "Requirement already satisfied: fonttools>=4.22.0 in /home/s5321302/.pyenv/versions/3.10.6/lib/python3.10/site-packages (from matplotlib) (4.37.4)\n",
      "Requirement already satisfied: packaging>=20.0 in /home/s5321302/.pyenv/versions/3.10.6/lib/python3.10/site-packages (from matplotlib) (21.3)\n",
      "Requirement already satisfied: contourpy>=1.0.1 in /home/s5321302/.pyenv/versions/3.10.6/lib/python3.10/site-packages (from matplotlib) (1.0.5)\n",
      "Requirement already satisfied: python-dateutil>=2.7 in /home/s5321302/.pyenv/versions/3.10.6/lib/python3.10/site-packages (from matplotlib) (2.8.2)\n",
      "Requirement already satisfied: pyparsing>=2.2.1 in /home/s5321302/.pyenv/versions/3.10.6/lib/python3.10/site-packages (from matplotlib) (3.0.9)\n",
      "Requirement already satisfied: kiwisolver>=1.0.1 in /home/s5321302/.pyenv/versions/3.10.6/lib/python3.10/site-packages (from matplotlib) (1.4.4)\n",
      "Requirement already satisfied: six>=1.5 in /home/s5321302/.pyenv/versions/3.10.6/lib/python3.10/site-packages (from python-dateutil>=2.7->matplotlib) (1.16.0)\n"
     ]
    }
   ],
   "source": [
    "!pip install matplotlib\n"
   ]
  },
  {
   "cell_type": "code",
   "execution_count": 8,
   "id": "612c3f0e",
   "metadata": {},
   "outputs": [],
   "source": [
    "import matplotlib.pyplot as plt\n",
    "def plot_pred(train_data = X_train,train_label = Y_train, test_data = X_test,test_label = Y_test,pred=None):\n",
    "    plt.figure(figsize=(5,5))\n",
    "\n",
    "    plt.scatter(train_data,train_label,c='b',s=4,lable='Training data')\n",
    "    plt.scatter(test_data,test_label,c='r',s=4,lable='Testing data')\n",
    "\n",
    "    if pred is not None:\n",
    "        plt.scatter(test_data,pred)\n",
    "        plt.scatter(test_data,pred,c='r',s=4,label='predictions')\n",
    "#plt.legend(prop={\"size\":14})"
   ]
  },
  {
   "cell_type": "code",
   "execution_count": 11,
   "id": "da9511d5",
   "metadata": {},
   "outputs": [
    {
     "data": {
      "image/png": "[encoded data removed]",
      "text/plain": [
       "<Figure size 500x500 with 1 Axes>"
      ]
     },
     "metadata": {},
     "output_type": "display_data"
    }
   ],
   "source": [
    "import matplotlib.pyplot as plt\n",
    "\n",
    " \n",
    "\n",
    "def plot_pred(train_data = X_train,\n",
    "            train_label = Y_train,\n",
    "            test_data=X_test,\n",
    "            test_label= Y_test,\n",
    "            pred=None):\n",
    "    plt.figure(figsize=(5,5))\n",
    "    \n",
    "    plt.scatter(train_data, train_label, c='b',s=4, label='Training data')\n",
    "    plt.scatter(test_data, test_label, c='r',s=4, label='Testing data')\n",
    "    \n",
    "    if pred is not None:\n",
    "        plt.scatter(test_data, pred)\n",
    "        plt.scatter(test_data, pred, c='r',s=4, label='predictions')\n",
    "#plt.legend(prop={\"size\" :14})\n",
    "\n",
    " \n",
    "\n",
    "plot_pred()"
   ]
  },
  {
   "cell_type": "code",
   "execution_count": 9,
   "id": "a40ae9b3",
   "metadata": {},
   "outputs": [
    {
     "ename": "AttributeError",
     "evalue": "PathCollection.set() got an unexpected keyword argument 'lable'",
     "output_type": "error",
     "traceback": [
      "\u001b[0;31m---------------------------------------------------------------------------\u001b[0m",
      "\u001b[0;31mAttributeError\u001b[0m                            Traceback (most recent call last)",
      "Cell \u001b[0;32mIn [9], line 1\u001b[0m\n\u001b[0;32m----> 1\u001b[0m plot_pred()\n",
      "Cell \u001b[0;32mIn [8], line 9\u001b[0m, in \u001b[0;36mplot_pred\u001b[0;34m(train_data, train_label, test_data, test_label, pred)\u001b[0m\n\u001b[1;32m      2\u001b[0m \u001b[38;5;28;01mdef\u001b[39;00m \u001b[38;5;21mplot_pred\u001b[39m(train_data \u001b[38;5;241m=\u001b[39m X_train,\n\u001b[1;32m      3\u001b[0m             train_label \u001b[38;5;241m=\u001b[39m Y_train,\n\u001b[1;32m      4\u001b[0m             test_data \u001b[38;5;241m=\u001b[39m X_test,\n\u001b[1;32m      5\u001b[0m             test_label \u001b[38;5;241m=\u001b[39m Y_test,\n\u001b[1;32m      6\u001b[0m             pred\u001b[38;5;241m=\u001b[39m\u001b[38;5;28;01mNone\u001b[39;00m):\n\u001b[1;32m      7\u001b[0m     plt\u001b[38;5;241m.\u001b[39mfigure(figsize\u001b[38;5;241m=\u001b[39m(\u001b[38;5;241m5\u001b[39m,\u001b[38;5;241m5\u001b[39m))\n\u001b[0;32m----> 9\u001b[0m     \u001b[43mplt\u001b[49m\u001b[38;5;241;43m.\u001b[39;49m\u001b[43mscatter\u001b[49m\u001b[43m(\u001b[49m\u001b[43mtrain_data\u001b[49m\u001b[43m,\u001b[49m\u001b[43mtrain_label\u001b[49m\u001b[43m,\u001b[49m\u001b[43mc\u001b[49m\u001b[38;5;241;43m=\u001b[39;49m\u001b[38;5;124;43m'\u001b[39;49m\u001b[38;5;124;43mb\u001b[39;49m\u001b[38;5;124;43m'\u001b[39;49m\u001b[43m,\u001b[49m\u001b[43ms\u001b[49m\u001b[38;5;241;43m=\u001b[39;49m\u001b[38;5;241;43m4\u001b[39;49m\u001b[43m,\u001b[49m\u001b[43mlable\u001b[49m\u001b[38;5;241;43m=\u001b[39;49m\u001b[38;5;124;43m'\u001b[39;49m\u001b[38;5;124;43mTraining data\u001b[39;49m\u001b[38;5;124;43m'\u001b[39;49m\u001b[43m)\u001b[49m\n\u001b[1;32m     10\u001b[0m     plt\u001b[38;5;241m.\u001b[39mscatter(test_data,test_label,c\u001b[38;5;241m=\u001b[39m\u001b[38;5;124m'\u001b[39m\u001b[38;5;124mr\u001b[39m\u001b[38;5;124m'\u001b[39m,s\u001b[38;5;241m=\u001b[39m\u001b[38;5;241m4\u001b[39m,lable\u001b[38;5;241m=\u001b[39m\u001b[38;5;124m'\u001b[39m\u001b[38;5;124mTesting data\u001b[39m\u001b[38;5;124m'\u001b[39m)\n\u001b[1;32m     12\u001b[0m     \u001b[38;5;28;01mif\u001b[39;00m pred \u001b[38;5;129;01mis\u001b[39;00m \u001b[38;5;129;01mnot\u001b[39;00m \u001b[38;5;28;01mNone\u001b[39;00m:\n",
      "File \u001b[0;32m~/.pyenv/versions/3.10.6/lib/python3.10/site-packages/matplotlib/pyplot.py:2780\u001b[0m, in \u001b[0;36mscatter\u001b[0;34m(x, y, s, c, marker, cmap, norm, vmin, vmax, alpha, linewidths, edgecolors, plotnonfinite, data, **kwargs)\u001b[0m\n\u001b[1;32m   <a href='file:///home/s5321302/.pyenv/versions/3.10.6/lib/python3.10/site-packages/matplotlib/pyplot.py?line=2774'>2775</a>\u001b[0m \u001b[39m@_copy_docstring_and_deprecators\u001b[39m(Axes\u001b[39m.\u001b[39mscatter)\n\u001b[1;32m   <a href='file:///home/s5321302/.pyenv/versions/3.10.6/lib/python3.10/site-packages/matplotlib/pyplot.py?line=2775'>2776</a>\u001b[0m \u001b[39mdef\u001b[39;00m \u001b[39mscatter\u001b[39m(\n\u001b[1;32m   <a href='file:///home/s5321302/.pyenv/versions/3.10.6/lib/python3.10/site-packages/matplotlib/pyplot.py?line=2776'>2777</a>\u001b[0m         x, y, s\u001b[39m=\u001b[39m\u001b[39mNone\u001b[39;00m, c\u001b[39m=\u001b[39m\u001b[39mNone\u001b[39;00m, marker\u001b[39m=\u001b[39m\u001b[39mNone\u001b[39;00m, cmap\u001b[39m=\u001b[39m\u001b[39mNone\u001b[39;00m, norm\u001b[39m=\u001b[39m\u001b[39mNone\u001b[39;00m,\n\u001b[1;32m   <a href='file:///home/s5321302/.pyenv/versions/3.10.6/lib/python3.10/site-packages/matplotlib/pyplot.py?line=2777'>2778</a>\u001b[0m         vmin\u001b[39m=\u001b[39m\u001b[39mNone\u001b[39;00m, vmax\u001b[39m=\u001b[39m\u001b[39mNone\u001b[39;00m, alpha\u001b[39m=\u001b[39m\u001b[39mNone\u001b[39;00m, linewidths\u001b[39m=\u001b[39m\u001b[39mNone\u001b[39;00m, \u001b[39m*\u001b[39m,\n\u001b[1;32m   <a href='file:///home/s5321302/.pyenv/versions/3.10.6/lib/python3.10/site-packages/matplotlib/pyplot.py?line=2778'>2779</a>\u001b[0m         edgecolors\u001b[39m=\u001b[39m\u001b[39mNone\u001b[39;00m, plotnonfinite\u001b[39m=\u001b[39m\u001b[39mFalse\u001b[39;00m, data\u001b[39m=\u001b[39m\u001b[39mNone\u001b[39;00m, \u001b[39m*\u001b[39m\u001b[39m*\u001b[39mkwargs):\n\u001b[0;32m-> <a href='file:///home/s5321302/.pyenv/versions/3.10.6/lib/python3.10/site-packages/matplotlib/pyplot.py?line=2779'>2780</a>\u001b[0m     __ret \u001b[39m=\u001b[39m gca()\u001b[39m.\u001b[39;49mscatter(\n\u001b[1;32m   <a href='file:///home/s5321302/.pyenv/versions/3.10.6/lib/python3.10/site-packages/matplotlib/pyplot.py?line=2780'>2781</a>\u001b[0m         x, y, s\u001b[39m=\u001b[39;49ms, c\u001b[39m=\u001b[39;49mc, marker\u001b[39m=\u001b[39;49mmarker, cmap\u001b[39m=\u001b[39;49mcmap, norm\u001b[39m=\u001b[39;49mnorm,\n\u001b[1;32m   <a href='file:///home/s5321302/.pyenv/versions/3.10.6/lib/python3.10/site-packages/matplotlib/pyplot.py?line=2781'>2782</a>\u001b[0m         vmin\u001b[39m=\u001b[39;49mvmin, vmax\u001b[39m=\u001b[39;49mvmax, alpha\u001b[39m=\u001b[39;49malpha, linewidths\u001b[39m=\u001b[39;49mlinewidths,\n\u001b[1;32m   <a href='file:///home/s5321302/.pyenv/versions/3.10.6/lib/python3.10/site-packages/matplotlib/pyplot.py?line=2782'>2783</a>\u001b[0m         edgecolors\u001b[39m=\u001b[39;49medgecolors, plotnonfinite\u001b[39m=\u001b[39;49mplotnonfinite,\n\u001b[1;32m   <a href='file:///home/s5321302/.pyenv/versions/3.10.6/lib/python3.10/site-packages/matplotlib/pyplot.py?line=2783'>2784</a>\u001b[0m         \u001b[39m*\u001b[39;49m\u001b[39m*\u001b[39;49m({\u001b[39m\"\u001b[39;49m\u001b[39mdata\u001b[39;49m\u001b[39m\"\u001b[39;49m: data} \u001b[39mif\u001b[39;49;00m data \u001b[39mis\u001b[39;49;00m \u001b[39mnot\u001b[39;49;00m \u001b[39mNone\u001b[39;49;00m \u001b[39melse\u001b[39;49;00m {}), \u001b[39m*\u001b[39;49m\u001b[39m*\u001b[39;49mkwargs)\n\u001b[1;32m   <a href='file:///home/s5321302/.pyenv/versions/3.10.6/lib/python3.10/site-packages/matplotlib/pyplot.py?line=2784'>2785</a>\u001b[0m     sci(__ret)\n\u001b[1;32m   <a href='file:///home/s5321302/.pyenv/versions/3.10.6/lib/python3.10/site-packages/matplotlib/pyplot.py?line=2785'>2786</a>\u001b[0m     \u001b[39mreturn\u001b[39;00m __ret\n",
      "File \u001b[0;32m~/.pyenv/versions/3.10.6/lib/python3.10/site-packages/matplotlib/__init__.py:1423\u001b[0m, in \u001b[0;36m_preprocess_data.<locals>.inner\u001b[0;34m(ax, data, *args, **kwargs)\u001b[0m\n\u001b[1;32m   <a href='file:///home/s5321302/.pyenv/versions/3.10.6/lib/python3.10/site-packages/matplotlib/__init__.py?line=1419'>1420</a>\u001b[0m \u001b[39m@functools\u001b[39m\u001b[39m.\u001b[39mwraps(func)\n\u001b[1;32m   <a href='file:///home/s5321302/.pyenv/versions/3.10.6/lib/python3.10/site-packages/matplotlib/__init__.py?line=1420'>1421</a>\u001b[0m \u001b[39mdef\u001b[39;00m \u001b[39minner\u001b[39m(ax, \u001b[39m*\u001b[39margs, data\u001b[39m=\u001b[39m\u001b[39mNone\u001b[39;00m, \u001b[39m*\u001b[39m\u001b[39m*\u001b[39mkwargs):\n\u001b[1;32m   <a href='file:///home/s5321302/.pyenv/versions/3.10.6/lib/python3.10/site-packages/matplotlib/__init__.py?line=1421'>1422</a>\u001b[0m     \u001b[39mif\u001b[39;00m data \u001b[39mis\u001b[39;00m \u001b[39mNone\u001b[39;00m:\n\u001b[0;32m-> <a href='file:///home/s5321302/.pyenv/versions/3.10.6/lib/python3.10/site-packages/matplotlib/__init__.py?line=1422'>1423</a>\u001b[0m         \u001b[39mreturn\u001b[39;00m func(ax, \u001b[39m*\u001b[39;49m\u001b[39mmap\u001b[39;49m(sanitize_sequence, args), \u001b[39m*\u001b[39;49m\u001b[39m*\u001b[39;49mkwargs)\n\u001b[1;32m   <a href='file:///home/s5321302/.pyenv/versions/3.10.6/lib/python3.10/site-packages/matplotlib/__init__.py?line=1424'>1425</a>\u001b[0m     bound \u001b[39m=\u001b[39m new_sig\u001b[39m.\u001b[39mbind(ax, \u001b[39m*\u001b[39margs, \u001b[39m*\u001b[39m\u001b[39m*\u001b[39mkwargs)\n\u001b[1;32m   <a href='file:///home/s5321302/.pyenv/versions/3.10.6/lib/python3.10/site-packages/matplotlib/__init__.py?line=1425'>1426</a>\u001b[0m     auto_label \u001b[39m=\u001b[39m (bound\u001b[39m.\u001b[39marguments\u001b[39m.\u001b[39mget(label_namer)\n\u001b[1;32m   <a href='file:///home/s5321302/.pyenv/versions/3.10.6/lib/python3.10/site-packages/matplotlib/__init__.py?line=1426'>1427</a>\u001b[0m                   \u001b[39mor\u001b[39;00m bound\u001b[39m.\u001b[39mkwargs\u001b[39m.\u001b[39mget(label_namer))\n",
      "File \u001b[0;32m~/.pyenv/versions/3.10.6/lib/python3.10/site-packages/matplotlib/axes/_axes.py:4626\u001b[0m, in \u001b[0;36mAxes.scatter\u001b[0;34m(self, x, y, s, c, marker, cmap, norm, vmin, vmax, alpha, linewidths, edgecolors, plotnonfinite, **kwargs)\u001b[0m\n\u001b[1;32m   <a href='file:///home/s5321302/.pyenv/versions/3.10.6/lib/python3.10/site-packages/matplotlib/axes/_axes.py?line=4621'>4622</a>\u001b[0m         keys_str \u001b[39m=\u001b[39m \u001b[39m\"\u001b[39m\u001b[39m, \u001b[39m\u001b[39m\"\u001b[39m\u001b[39m.\u001b[39mjoin(\u001b[39mf\u001b[39m\u001b[39m\"\u001b[39m\u001b[39m'\u001b[39m\u001b[39m{\u001b[39;00mk\u001b[39m}\u001b[39;00m\u001b[39m'\u001b[39m\u001b[39m\"\u001b[39m \u001b[39mfor\u001b[39;00m k \u001b[39min\u001b[39;00m extra_keys)\n\u001b[1;32m   <a href='file:///home/s5321302/.pyenv/versions/3.10.6/lib/python3.10/site-packages/matplotlib/axes/_axes.py?line=4622'>4623</a>\u001b[0m         _api\u001b[39m.\u001b[39mwarn_external(\n\u001b[1;32m   <a href='file:///home/s5321302/.pyenv/versions/3.10.6/lib/python3.10/site-packages/matplotlib/axes/_axes.py?line=4623'>4624</a>\u001b[0m             \u001b[39m\"\u001b[39m\u001b[39mNo data for colormapping provided via \u001b[39m\u001b[39m'\u001b[39m\u001b[39mc\u001b[39m\u001b[39m'\u001b[39m\u001b[39m. \u001b[39m\u001b[39m\"\u001b[39m\n\u001b[1;32m   <a href='file:///home/s5321302/.pyenv/versions/3.10.6/lib/python3.10/site-packages/matplotlib/axes/_axes.py?line=4624'>4625</a>\u001b[0m             \u001b[39mf\u001b[39m\u001b[39m\"\u001b[39m\u001b[39mParameters \u001b[39m\u001b[39m{\u001b[39;00mkeys_str\u001b[39m}\u001b[39;00m\u001b[39m will be ignored\u001b[39m\u001b[39m\"\u001b[39m)\n\u001b[0;32m-> <a href='file:///home/s5321302/.pyenv/versions/3.10.6/lib/python3.10/site-packages/matplotlib/axes/_axes.py?line=4625'>4626</a>\u001b[0m collection\u001b[39m.\u001b[39;49m_internal_update(kwargs)\n\u001b[1;32m   <a href='file:///home/s5321302/.pyenv/versions/3.10.6/lib/python3.10/site-packages/matplotlib/axes/_axes.py?line=4627'>4628</a>\u001b[0m \u001b[39m# Classic mode only:\u001b[39;00m\n\u001b[1;32m   <a href='file:///home/s5321302/.pyenv/versions/3.10.6/lib/python3.10/site-packages/matplotlib/axes/_axes.py?line=4628'>4629</a>\u001b[0m \u001b[39m# ensure there are margins to allow for the\u001b[39;00m\n\u001b[1;32m   <a href='file:///home/s5321302/.pyenv/versions/3.10.6/lib/python3.10/site-packages/matplotlib/axes/_axes.py?line=4629'>4630</a>\u001b[0m \u001b[39m# finite size of the symbols.  In v2.x, margins\u001b[39;00m\n\u001b[1;32m   <a href='file:///home/s5321302/.pyenv/versions/3.10.6/lib/python3.10/site-packages/matplotlib/axes/_axes.py?line=4630'>4631</a>\u001b[0m \u001b[39m# are present by default, so we disable this\u001b[39;00m\n\u001b[1;32m   <a href='file:///home/s5321302/.pyenv/versions/3.10.6/lib/python3.10/site-packages/matplotlib/axes/_axes.py?line=4631'>4632</a>\u001b[0m \u001b[39m# scatter-specific override.\u001b[39;00m\n\u001b[1;32m   <a href='file:///home/s5321302/.pyenv/versions/3.10.6/lib/python3.10/site-packages/matplotlib/axes/_axes.py?line=4632'>4633</a>\u001b[0m \u001b[39mif\u001b[39;00m mpl\u001b[39m.\u001b[39mrcParams[\u001b[39m'\u001b[39m\u001b[39m_internal.classic_mode\u001b[39m\u001b[39m'\u001b[39m]:\n",
      "File \u001b[0;32m~/.pyenv/versions/3.10.6/lib/python3.10/site-packages/matplotlib/artist.py:1186\u001b[0m, in \u001b[0;36mArtist._internal_update\u001b[0;34m(self, kwargs)\u001b[0m\n\u001b[1;32m   <a href='file:///home/s5321302/.pyenv/versions/3.10.6/lib/python3.10/site-packages/matplotlib/artist.py?line=1178'>1179</a>\u001b[0m \u001b[39mdef\u001b[39;00m \u001b[39m_internal_update\u001b[39m(\u001b[39mself\u001b[39m, kwargs):\n\u001b[1;32m   <a href='file:///home/s5321302/.pyenv/versions/3.10.6/lib/python3.10/site-packages/matplotlib/artist.py?line=1179'>1180</a>\u001b[0m     \u001b[39m\"\"\"\u001b[39;00m\n\u001b[1;32m   <a href='file:///home/s5321302/.pyenv/versions/3.10.6/lib/python3.10/site-packages/matplotlib/artist.py?line=1180'>1181</a>\u001b[0m \u001b[39m    Update artist properties without prenormalizing them, but generating\u001b[39;00m\n\u001b[1;32m   <a href='file:///home/s5321302/.pyenv/versions/3.10.6/lib/python3.10/site-packages/matplotlib/artist.py?line=1181'>1182</a>\u001b[0m \u001b[39m    errors as if calling `set`.\u001b[39;00m\n\u001b[1;32m   <a href='file:///home/s5321302/.pyenv/versions/3.10.6/lib/python3.10/site-packages/matplotlib/artist.py?line=1182'>1183</a>\u001b[0m \n\u001b[1;32m   <a href='file:///home/s5321302/.pyenv/versions/3.10.6/lib/python3.10/site-packages/matplotlib/artist.py?line=1183'>1184</a>\u001b[0m \u001b[39m    The lack of prenormalization is to maintain backcompatibility.\u001b[39;00m\n\u001b[1;32m   <a href='file:///home/s5321302/.pyenv/versions/3.10.6/lib/python3.10/site-packages/matplotlib/artist.py?line=1184'>1185</a>\u001b[0m \u001b[39m    \"\"\"\u001b[39;00m\n\u001b[0;32m-> <a href='file:///home/s5321302/.pyenv/versions/3.10.6/lib/python3.10/site-packages/matplotlib/artist.py?line=1185'>1186</a>\u001b[0m     \u001b[39mreturn\u001b[39;00m \u001b[39mself\u001b[39;49m\u001b[39m.\u001b[39;49m_update_props(\n\u001b[1;32m   <a href='file:///home/s5321302/.pyenv/versions/3.10.6/lib/python3.10/site-packages/matplotlib/artist.py?line=1186'>1187</a>\u001b[0m         kwargs, \u001b[39m\"\u001b[39;49m\u001b[39m{cls.__name__}\u001b[39;49;00m\u001b[39m.set() got an unexpected keyword argument \u001b[39;49m\u001b[39m\"\u001b[39;49m\n\u001b[1;32m   <a href='file:///home/s5321302/.pyenv/versions/3.10.6/lib/python3.10/site-packages/matplotlib/artist.py?line=1187'>1188</a>\u001b[0m         \u001b[39m\"\u001b[39;49m\u001b[39m{prop_name!r}\u001b[39;49;00m\u001b[39m\"\u001b[39;49m)\n",
      "File \u001b[0;32m~/.pyenv/versions/3.10.6/lib/python3.10/site-packages/matplotlib/artist.py:1160\u001b[0m, in \u001b[0;36mArtist._update_props\u001b[0;34m(self, props, errfmt)\u001b[0m\n\u001b[1;32m   <a href='file:///home/s5321302/.pyenv/versions/3.10.6/lib/python3.10/site-packages/matplotlib/artist.py?line=1157'>1158</a>\u001b[0m             func \u001b[39m=\u001b[39m \u001b[39mgetattr\u001b[39m(\u001b[39mself\u001b[39m, \u001b[39mf\u001b[39m\u001b[39m\"\u001b[39m\u001b[39mset_\u001b[39m\u001b[39m{\u001b[39;00mk\u001b[39m}\u001b[39;00m\u001b[39m\"\u001b[39m, \u001b[39mNone\u001b[39;00m)\n\u001b[1;32m   <a href='file:///home/s5321302/.pyenv/versions/3.10.6/lib/python3.10/site-packages/matplotlib/artist.py?line=1158'>1159</a>\u001b[0m             \u001b[39mif\u001b[39;00m \u001b[39mnot\u001b[39;00m callable(func):\n\u001b[0;32m-> <a href='file:///home/s5321302/.pyenv/versions/3.10.6/lib/python3.10/site-packages/matplotlib/artist.py?line=1159'>1160</a>\u001b[0m                 \u001b[39mraise\u001b[39;00m \u001b[39mAttributeError\u001b[39;00m(\n\u001b[1;32m   <a href='file:///home/s5321302/.pyenv/versions/3.10.6/lib/python3.10/site-packages/matplotlib/artist.py?line=1160'>1161</a>\u001b[0m                     errfmt\u001b[39m.\u001b[39mformat(\u001b[39mcls\u001b[39m\u001b[39m=\u001b[39m\u001b[39mtype\u001b[39m(\u001b[39mself\u001b[39m), prop_name\u001b[39m=\u001b[39mk))\n\u001b[1;32m   <a href='file:///home/s5321302/.pyenv/versions/3.10.6/lib/python3.10/site-packages/matplotlib/artist.py?line=1161'>1162</a>\u001b[0m             ret\u001b[39m.\u001b[39mappend(func(v))\n\u001b[1;32m   <a href='file:///home/s5321302/.pyenv/versions/3.10.6/lib/python3.10/site-packages/matplotlib/artist.py?line=1162'>1163</a>\u001b[0m \u001b[39mif\u001b[39;00m ret:\n",
      "\u001b[0;31mAttributeError\u001b[0m: PathCollection.set() got an unexpected keyword argument 'lable'"
     ]
    },
    {
     "data": {
      "image/png": "[encoded data removed]",
      "text/plain": [
       "<Figure size 500x500 with 1 Axes>"
      ]
     },
     "metadata": {},
     "output_type": "display_data"
    }
   ],
   "source": [
    "plot_pred()"
   ]
  },
  {
   "cell_type": "code",
   "execution_count": null,
   "id": "7d21a030",
   "metadata": {},
   "outputs": [],
   "source": []
  }
 ],
 "metadata": {
  "interpreter": {
   "hash": "d680bd35dbfd82643d00138e9b3b15629a80cb47abf38083f965fee04c24a82a"
  },
  "kernelspec": {
   "display_name": "Python 3.10.6 64-bit ('3.10.6')",
   "language": "python",
   "name": "python3"
  },
  "language_info": {
   "codemirror_mode": {
    "name": "ipython",
    "version": 3
   },
   "file_extension": ".py",
   "mimetype": "text/x-python",
   "name": "python",
   "nbconvert_exporter": "python",
   "pygments_lexer": "ipython3",
   "version": "3.10.6"
  }
 },
 "nbformat": 4,
 "nbformat_minor": 5
}
